{
 "cells": [
  {
   "cell_type": "code",
   "execution_count": 1,
   "metadata": {},
   "outputs": [],
   "source": [
    "# To make sure cwd is consistently in the correct place ie: C:/Users/__user__/__Path__/b1-coding-practical-mt25-SN\n",
    "\n",
    "import sys, os\n",
    "\n",
    "# Current working directory is the directory of the notebook file by default when first running the script\n",
    "cwd = str(os.getcwd())\n",
    "\n",
    "# Moves up the directory folder chain until the directory ends with 'mt25-SN' ie: we are in the folder b1-coding-practical-mt25-SN\n",
    "while cwd[-7:] != 'mt25-SN':\n",
    "    os.chdir('../')\n",
    "    cwd = str(os.getcwd())\n",
    "\n",
    "# Add current working directory to the path so that modules and data can easily be found.\n",
    "sys.path.append(os.getcwd())"
   ]
  },
  {
   "cell_type": "code",
   "execution_count": 2,
   "metadata": {},
   "outputs": [
    {
     "name": "stdout",
     "output_type": "stream",
     "text": [
      "['C:\\\\Program Files\\\\WindowsApps\\\\PythonSoftwareFoundation.Python.3.13_3.13.2544.0_x64__qbz5n2kfra8p0\\\\python313.zip', 'C:\\\\Program Files\\\\WindowsApps\\\\PythonSoftwareFoundation.Python.3.13_3.13.2544.0_x64__qbz5n2kfra8p0\\\\DLLs', 'C:\\\\Program Files\\\\WindowsApps\\\\PythonSoftwareFoundation.Python.3.13_3.13.2544.0_x64__qbz5n2kfra8p0\\\\Lib', 'C:\\\\Program Files\\\\WindowsApps\\\\PythonSoftwareFoundation.Python.3.13_3.13.2544.0_x64__qbz5n2kfra8p0', '', 'C:\\\\Users\\\\samuel\\\\AppData\\\\Local\\\\Packages\\\\PythonSoftwareFoundation.Python.3.13_qbz5n2kfra8p0\\\\LocalCache\\\\local-packages\\\\Python313\\\\site-packages', 'C:\\\\Users\\\\samuel\\\\AppData\\\\Local\\\\Packages\\\\PythonSoftwareFoundation.Python.3.13_qbz5n2kfra8p0\\\\LocalCache\\\\local-packages\\\\Python313\\\\site-packages\\\\win32', 'C:\\\\Users\\\\samuel\\\\AppData\\\\Local\\\\Packages\\\\PythonSoftwareFoundation.Python.3.13_qbz5n2kfra8p0\\\\LocalCache\\\\local-packages\\\\Python313\\\\site-packages\\\\win32\\\\lib', 'C:\\\\Users\\\\samuel\\\\AppData\\\\Local\\\\Packages\\\\PythonSoftwareFoundation.Python.3.13_qbz5n2kfra8p0\\\\LocalCache\\\\local-packages\\\\Python313\\\\site-packages\\\\Pythonwin', 'C:\\\\Program Files\\\\WindowsApps\\\\PythonSoftwareFoundation.Python.3.13_3.13.2544.0_x64__qbz5n2kfra8p0\\\\Lib\\\\site-packages', 'c:\\\\Users\\\\samuel\\\\Documents\\\\VS_Code\\\\B1\\\\Scientific_Coding_Practical\\\\b1-coding-practical-mt25-SN']\n"
     ]
    }
   ],
   "source": [
    "# You can double-check your Python path like this...\n",
    "import sys\n",
    "\n",
    "print(sys.path)\n"
   ]
  },
  {
   "cell_type": "markdown",
   "metadata": {},
   "source": [
    "# Simulate closed-loop\n",
    "After implementing your control functionality, you can simulate the closed-loop with code that looks something like this..."
   ]
  },
  {
   "cell_type": "code",
   "execution_count": null,
   "metadata": {},
   "outputs": [
    {
     "name": "stdout",
     "output_type": "stream",
     "text": [
      "-0.3\n"
     ]
    }
   ],
   "source": [
    "import numpy as np\n",
    "\n",
    "# Import class data structures from uuv_mission/dyamic.py\n",
    "from uuv_mission.dynamic import Mission, Submarine, ClosedLoop\n",
    "\n",
    "# Import functions from uuv_mission/terrain.py\n",
    "import uuv_mission.terrain as terrain\n",
    "\n",
    "# Import functions from uuv_mission/control.py\n",
    "import uuv_mission.control as control"
   ]
  },
  {
   "cell_type": "code",
   "execution_count": 4,
   "metadata": {},
   "outputs": [
    {
     "ename": "NameError",
     "evalue": "name 'controller' is not defined",
     "output_type": "error",
     "traceback": [
      "\u001b[31m---------------------------------------------------------------------------\u001b[39m",
      "\u001b[31mNameError\u001b[39m                                 Traceback (most recent call last)",
      "\u001b[36mCell\u001b[39m\u001b[36m \u001b[39m\u001b[32mIn[4]\u001b[39m\u001b[32m, line 3\u001b[39m\n\u001b[32m      1\u001b[39m sub = Submarine()\n\u001b[32m      2\u001b[39m \u001b[38;5;66;03m# Instantiate your controller (depending on your implementation)\u001b[39;00m\n\u001b[32m----> \u001b[39m\u001b[32m3\u001b[39m closed_loop = ClosedLoop(sub, \u001b[43mcontroller\u001b[49m(Reference, Position)) \u001b[38;5;66;03m# what is controller???? do I make that????\u001b[39;00m\n\u001b[32m      4\u001b[39m mission = Mission.from_csv(\u001b[33m\"\u001b[39m\u001b[33mdata/mission.csv\u001b[39m\u001b[33m\"\u001b[39m) \u001b[38;5;66;03m# You must implement this method in the Mission class\u001b[39;00m\n\u001b[32m      6\u001b[39m trajectory = closed_loop.simulate_with_random_disturbances(mission)\n",
      "\u001b[31mNameError\u001b[39m: name 'controller' is not defined"
     ]
    }
   ],
   "source": [
    "sub = Submarine()\n",
    "# Instantiate your controller (depending on your implementation)\n",
    "closed_loop = ClosedLoop(sub, controller(Reference, Position)) # what is controller???? do I make that????\n",
    "mission = Mission.from_csv(\"data/mission.csv\") # You must implement this method in the Mission class\n",
    "\n",
    "trajectory = closed_loop.simulate_with_random_disturbances(mission)\n",
    "trajectory.plot_completed_mission(mission)"
   ]
  }
 ],
 "metadata": {
  "kernelspec": {
   "display_name": "Python 3",
   "language": "python",
   "name": "python3"
  },
  "language_info": {
   "codemirror_mode": {
    "name": "ipython",
    "version": 3
   },
   "file_extension": ".py",
   "mimetype": "text/x-python",
   "name": "python",
   "nbconvert_exporter": "python",
   "pygments_lexer": "ipython3",
   "version": "3.13.9"
  }
 },
 "nbformat": 4,
 "nbformat_minor": 2
}
